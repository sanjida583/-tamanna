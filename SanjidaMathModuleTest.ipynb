{
  "nbformat": 4,
  "nbformat_minor": 0,
  "metadata": {
    "colab": {
      "provenance": [],
      "authorship_tag": "ABX9TyMhwBsISxUE//QPV2DUvuDu",
      "include_colab_link": true
    },
    "kernelspec": {
      "name": "python3",
      "display_name": "Python 3"
    },
    "language_info": {
      "name": "python"
    }
  },
  "cells": [
    {
      "cell_type": "markdown",
      "metadata": {
        "id": "view-in-github",
        "colab_type": "text"
      },
      "source": [
        "<a href=\"https://colab.research.google.com/github/sanjida583/-tamanna/blob/main/SanjidaMathModuleTest.ipynb\" target=\"_parent\"><img src=\"https://colab.research.google.com/assets/colab-badge.svg\" alt=\"Open In Colab\"/></a>"
      ]
    },
    {
      "cell_type": "code",
      "source": [
        "import sys\n",
        "\n",
        "!wget https://raw.githubusercontent.com/sanjida583/Python-Code/refs/heads/main/SanjidaMathTest.py\n",
        "sys.path.append('/content')\n",
        "\n",
        "import SanjidaMathTest as mt\n",
        "\n",
        "n = int(input(\"Enter digit:\"))\n",
        "\n",
        "print(mt.print_path_pi_to_n_digits(n))"
      ],
      "metadata": {
        "colab": {
          "base_uri": "https://localhost:8080/",
          "height": 436
        },
        "id": "IqAJb6s3GuNC",
        "outputId": "c573f29e-3073-4238-b7d7-ca923752b098"
      },
      "execution_count": 11,
      "outputs": [
        {
          "output_type": "stream",
          "name": "stdout",
          "text": [
            "--2024-11-07 15:21:16--  https://raw.githubusercontent.com/sanjida583/Python-Code/refs/heads/main/SanjidaMathTest.py\n",
            "Resolving raw.githubusercontent.com (raw.githubusercontent.com)... 185.199.110.133, 185.199.111.133, 185.199.108.133, ...\n",
            "Connecting to raw.githubusercontent.com (raw.githubusercontent.com)|185.199.110.133|:443... connected.\n",
            "HTTP request sent, awaiting response... 200 OK\n",
            "Length: 289 [text/plain]\n",
            "Saving to: ‘SanjidaMathTest.py’\n",
            "\n",
            "\rSanjidaMathTest.py    0%[                    ]       0  --.-KB/s               \rSanjidaMathTest.py  100%[===================>]     289  --.-KB/s    in 0s      \n",
            "\n",
            "2024-11-07 15:21:16 (5.22 MB/s) - ‘SanjidaMathTest.py’ saved [289/289]\n",
            "\n"
          ]
        },
        {
          "output_type": "error",
          "ename": "SyntaxError",
          "evalue": "invalid syntax (SanjidaMathTest.py, line 1)",
          "traceback": [
            "Traceback \u001b[0;36m(most recent call last)\u001b[0m:\n",
            "  File \u001b[1;32m\"/usr/local/lib/python3.10/dist-packages/IPython/core/interactiveshell.py\"\u001b[0m, line \u001b[1;32m3553\u001b[0m, in \u001b[1;35mrun_code\u001b[0m\n    exec(code_obj, self.user_global_ns, self.user_ns)\n",
            "\u001b[0;36m  File \u001b[0;32m\"<ipython-input-11-33ba9971164a>\"\u001b[0;36m, line \u001b[0;32m6\u001b[0;36m, in \u001b[0;35m<cell line: 6>\u001b[0;36m\u001b[0m\n\u001b[0;31m    import SanjidaMathTest as mt\u001b[0m\n",
            "\u001b[0;36m  File \u001b[0;32m\"/content/SanjidaMathTest.py\"\u001b[0;36m, line \u001b[0;32m1\u001b[0m\n\u001b[0;31m    ffrom mpmath import mp\u001b[0m\n\u001b[0m          ^\u001b[0m\n\u001b[0;31mSyntaxError\u001b[0m\u001b[0;31m:\u001b[0m invalid syntax\n"
          ]
        }
      ]
    }
  ]
}