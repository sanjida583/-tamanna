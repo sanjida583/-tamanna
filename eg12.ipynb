{
  "nbformat": 4,
  "nbformat_minor": 0,
  "metadata": {
    "colab": {
      "provenance": [],
      "toc_visible": true,
      "authorship_tag": "ABX9TyN/Nr0g/KPB1Tbx3QrW5a2h",
      "include_colab_link": true
    },
    "kernelspec": {
      "name": "python3",
      "display_name": "Python 3"
    },
    "language_info": {
      "name": "python"
    }
  },
  "cells": [
    {
      "cell_type": "markdown",
      "metadata": {
        "id": "view-in-github",
        "colab_type": "text"
      },
      "source": [
        "<a href=\"https://colab.research.google.com/github/sanjida583/-tamanna/blob/main/eg12.ipynb\" target=\"_parent\"><img src=\"https://colab.research.google.com/assets/colab-badge.svg\" alt=\"Open In Colab\"/></a>"
      ]
    },
    {
      "cell_type": "code",
      "execution_count": 1,
      "metadata": {
        "colab": {
          "base_uri": "https://localhost:8080/",
          "height": 263
        },
        "id": "Y1cgbFCKh4h0",
        "outputId": "ff05ad01-a75e-4fc2-967e-557cbf354dd5"
      },
      "outputs": [
        {
          "output_type": "stream",
          "name": "stdout",
          "text": [
            "\n",
            "1) This is String Split: Letter by letter up to index 4\n",
            "\n"
          ]
        },
        {
          "output_type": "error",
          "ename": "NameError",
          "evalue": "name 'a' is not defined",
          "traceback": [
            "\u001b[0;31m---------------------------------------------------------------------------\u001b[0m",
            "\u001b[0;31mNameError\u001b[0m                                 Traceback (most recent call last)",
            "\u001b[0;32m<ipython-input-1-25802533cfb5>\u001b[0m in \u001b[0;36m<cell line: 12>\u001b[0;34m()\u001b[0m\n\u001b[1;32m     10\u001b[0m \u001b[0;34m\u001b[0m\u001b[0m\n\u001b[1;32m     11\u001b[0m \u001b[0mprint\u001b[0m\u001b[0;34m(\u001b[0m\u001b[0;34m\"\\n1) This is String Split: Letter by letter up to index 4\\n\"\u001b[0m\u001b[0;34m)\u001b[0m\u001b[0;34m\u001b[0m\u001b[0;34m\u001b[0m\u001b[0m\n\u001b[0;32m---> 12\u001b[0;31m \u001b[0;32mfor\u001b[0m \u001b[0mi\u001b[0m \u001b[0;32min\u001b[0m \u001b[0ma\u001b[0m\u001b[0;34m[\u001b[0m\u001b[0;34m:\u001b[0m\u001b[0;36m5\u001b[0m\u001b[0;34m]\u001b[0m\u001b[0;34m:\u001b[0m\u001b[0;34m\u001b[0m\u001b[0;34m\u001b[0m\u001b[0m\n\u001b[0m\u001b[1;32m     13\u001b[0m     \u001b[0mprint\u001b[0m\u001b[0;34m(\u001b[0m\u001b[0mi\u001b[0m\u001b[0;34m)\u001b[0m\u001b[0;34m\u001b[0m\u001b[0;34m\u001b[0m\u001b[0m\n\u001b[1;32m     14\u001b[0m \u001b[0;34m\u001b[0m\u001b[0m\n",
            "\u001b[0;31mNameError\u001b[0m: name 'a' is not defined"
          ]
        }
      ],
      "source": [
        "# This is a sample Python script.\n",
        "\n",
        "# Press Shift+F10 to execute it or replace it with your code.\n",
        "# Press Double Shift to search everywhere for classes, files, tool windows, actions, and settings.\n",
        "\n",
        "\n",
        "def print_hi(name):\n",
        "    # Use a breakpoint in the code line below to debug your script.\n",
        "    print(f'Hi, {name}')  # Press Ctrl+F8 to toggle the breakpoint.\n",
        "\n",
        "print(\"\\n1) This is String Split: Letter by letter up to index 4\\n\")\n",
        "for i in a[:5]:\n",
        "    print(i)\n",
        "\n",
        "print(\"\\n2) After String Split, now it a list. See all\")\n",
        "\n",
        "b = a.split(\" \")\n",
        "for w in b:\n",
        "    print(w)\n",
        "\n",
        "print(\"\\n3) Printing index 2 to 4 in uppercase\")\n",
        "\n",
        "c = b[2:5]\n",
        "for sw in c:\n",
        "    print(sw.upper())\n",
        "# Press the green button in the gutter to run the script.\n",
        "if __name__ == '__main__':\n",
        "    print_hi('PyCharm')\n"
      ]
    }
  ]
}